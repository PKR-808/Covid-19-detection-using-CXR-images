{
  "nbformat": 4,
  "nbformat_minor": 0,
  "metadata": {
    "colab": {
      "name": "VGG_CovidvsNormal(new).ipynb",
      "provenance": [],
      "collapsed_sections": []
    },
    "kernelspec": {
      "name": "python3",
      "display_name": "Python 3"
    },
    "accelerator": "GPU",
    "widgets": {
      "application/vnd.jupyter.widget-state+json": {
        "e611c54c9c244e97804f260fd6002e7d": {
          "model_module": "@jupyter-widgets/controls",
          "model_name": "HBoxModel",
          "state": {
            "_view_name": "HBoxView",
            "_dom_classes": [],
            "_model_name": "HBoxModel",
            "_view_module": "@jupyter-widgets/controls",
            "_model_module_version": "1.5.0",
            "_view_count": null,
            "_view_module_version": "1.5.0",
            "box_style": "",
            "layout": "IPY_MODEL_7f808fbacf9346c39a85ee16ced5f5ae",
            "_model_module": "@jupyter-widgets/controls",
            "children": [
              "IPY_MODEL_e4f07bb76c7a4a97ab2e961f25430a27",
              "IPY_MODEL_a733286487da44cfbefc48a8cceafe9d"
            ]
          }
        },
        "7f808fbacf9346c39a85ee16ced5f5ae": {
          "model_module": "@jupyter-widgets/base",
          "model_name": "LayoutModel",
          "state": {
            "_view_name": "LayoutView",
            "grid_template_rows": null,
            "right": null,
            "justify_content": null,
            "_view_module": "@jupyter-widgets/base",
            "overflow": null,
            "_model_module_version": "1.2.0",
            "_view_count": null,
            "flex_flow": null,
            "width": null,
            "min_width": null,
            "border": null,
            "align_items": null,
            "bottom": null,
            "_model_module": "@jupyter-widgets/base",
            "top": null,
            "grid_column": null,
            "overflow_y": null,
            "overflow_x": null,
            "grid_auto_flow": null,
            "grid_area": null,
            "grid_template_columns": null,
            "flex": null,
            "_model_name": "LayoutModel",
            "justify_items": null,
            "grid_row": null,
            "max_height": null,
            "align_content": null,
            "visibility": null,
            "align_self": null,
            "height": null,
            "min_height": null,
            "padding": null,
            "grid_auto_rows": null,
            "grid_gap": null,
            "max_width": null,
            "order": null,
            "_view_module_version": "1.2.0",
            "grid_template_areas": null,
            "object_position": null,
            "object_fit": null,
            "grid_auto_columns": null,
            "margin": null,
            "display": null,
            "left": null
          }
        },
        "e4f07bb76c7a4a97ab2e961f25430a27": {
          "model_module": "@jupyter-widgets/controls",
          "model_name": "FloatProgressModel",
          "state": {
            "_view_name": "ProgressView",
            "style": "IPY_MODEL_daa22ae623e347809239025e7f3ff39a",
            "_dom_classes": [],
            "description": "100%",
            "_model_name": "FloatProgressModel",
            "bar_style": "success",
            "max": 553433881,
            "_view_module": "@jupyter-widgets/controls",
            "_model_module_version": "1.5.0",
            "value": 553433881,
            "_view_count": null,
            "_view_module_version": "1.5.0",
            "orientation": "horizontal",
            "min": 0,
            "description_tooltip": null,
            "_model_module": "@jupyter-widgets/controls",
            "layout": "IPY_MODEL_40779b02918d48f4a3d240031fda96af"
          }
        },
        "a733286487da44cfbefc48a8cceafe9d": {
          "model_module": "@jupyter-widgets/controls",
          "model_name": "HTMLModel",
          "state": {
            "_view_name": "HTMLView",
            "style": "IPY_MODEL_b66a52f8fa2b4460b1674eb1db737777",
            "_dom_classes": [],
            "description": "",
            "_model_name": "HTMLModel",
            "placeholder": "​",
            "_view_module": "@jupyter-widgets/controls",
            "_model_module_version": "1.5.0",
            "value": " 528M/528M [00:43&lt;00:00, 12.7MB/s]",
            "_view_count": null,
            "_view_module_version": "1.5.0",
            "description_tooltip": null,
            "_model_module": "@jupyter-widgets/controls",
            "layout": "IPY_MODEL_29bbf073d6e244b9be78aa67682101a8"
          }
        },
        "daa22ae623e347809239025e7f3ff39a": {
          "model_module": "@jupyter-widgets/controls",
          "model_name": "ProgressStyleModel",
          "state": {
            "_view_name": "StyleView",
            "_model_name": "ProgressStyleModel",
            "description_width": "initial",
            "_view_module": "@jupyter-widgets/base",
            "_model_module_version": "1.5.0",
            "_view_count": null,
            "_view_module_version": "1.2.0",
            "bar_color": null,
            "_model_module": "@jupyter-widgets/controls"
          }
        },
        "40779b02918d48f4a3d240031fda96af": {
          "model_module": "@jupyter-widgets/base",
          "model_name": "LayoutModel",
          "state": {
            "_view_name": "LayoutView",
            "grid_template_rows": null,
            "right": null,
            "justify_content": null,
            "_view_module": "@jupyter-widgets/base",
            "overflow": null,
            "_model_module_version": "1.2.0",
            "_view_count": null,
            "flex_flow": null,
            "width": null,
            "min_width": null,
            "border": null,
            "align_items": null,
            "bottom": null,
            "_model_module": "@jupyter-widgets/base",
            "top": null,
            "grid_column": null,
            "overflow_y": null,
            "overflow_x": null,
            "grid_auto_flow": null,
            "grid_area": null,
            "grid_template_columns": null,
            "flex": null,
            "_model_name": "LayoutModel",
            "justify_items": null,
            "grid_row": null,
            "max_height": null,
            "align_content": null,
            "visibility": null,
            "align_self": null,
            "height": null,
            "min_height": null,
            "padding": null,
            "grid_auto_rows": null,
            "grid_gap": null,
            "max_width": null,
            "order": null,
            "_view_module_version": "1.2.0",
            "grid_template_areas": null,
            "object_position": null,
            "object_fit": null,
            "grid_auto_columns": null,
            "margin": null,
            "display": null,
            "left": null
          }
        },
        "b66a52f8fa2b4460b1674eb1db737777": {
          "model_module": "@jupyter-widgets/controls",
          "model_name": "DescriptionStyleModel",
          "state": {
            "_view_name": "StyleView",
            "_model_name": "DescriptionStyleModel",
            "description_width": "",
            "_view_module": "@jupyter-widgets/base",
            "_model_module_version": "1.5.0",
            "_view_count": null,
            "_view_module_version": "1.2.0",
            "_model_module": "@jupyter-widgets/controls"
          }
        },
        "29bbf073d6e244b9be78aa67682101a8": {
          "model_module": "@jupyter-widgets/base",
          "model_name": "LayoutModel",
          "state": {
            "_view_name": "LayoutView",
            "grid_template_rows": null,
            "right": null,
            "justify_content": null,
            "_view_module": "@jupyter-widgets/base",
            "overflow": null,
            "_model_module_version": "1.2.0",
            "_view_count": null,
            "flex_flow": null,
            "width": null,
            "min_width": null,
            "border": null,
            "align_items": null,
            "bottom": null,
            "_model_module": "@jupyter-widgets/base",
            "top": null,
            "grid_column": null,
            "overflow_y": null,
            "overflow_x": null,
            "grid_auto_flow": null,
            "grid_area": null,
            "grid_template_columns": null,
            "flex": null,
            "_model_name": "LayoutModel",
            "justify_items": null,
            "grid_row": null,
            "max_height": null,
            "align_content": null,
            "visibility": null,
            "align_self": null,
            "height": null,
            "min_height": null,
            "padding": null,
            "grid_auto_rows": null,
            "grid_gap": null,
            "max_width": null,
            "order": null,
            "_view_module_version": "1.2.0",
            "grid_template_areas": null,
            "object_position": null,
            "object_fit": null,
            "grid_auto_columns": null,
            "margin": null,
            "display": null,
            "left": null
          }
        }
      }
    }
  },
  "cells": [
    {
      "cell_type": "code",
      "metadata": {
        "id": "CGsEa-Iw9qFf",
        "outputId": "540c293c-49ec-40fb-a6c6-8f2b86b1ecbf",
        "colab": {
          "base_uri": "https://localhost:8080/",
          "height": 148
        }
      },
      "source": [
        "!git clone https://gitlab.com/PKR-808/covid-19-detection-using-bimcv-dataset.git"
      ],
      "execution_count": 1,
      "outputs": [
        {
          "output_type": "stream",
          "text": [
            "Cloning into 'covid-19-detection-using-bimcv-dataset'...\n",
            "remote: Enumerating objects: 3563, done.\u001b[K\n",
            "remote: Counting objects: 100% (3563/3563), done.\u001b[K\n",
            "remote: Compressing objects: 100% (3562/3562), done.\u001b[K\n",
            "remote: Total 3563 (delta 0), reused 3560 (delta 0), pack-reused 0\u001b[K\n",
            "Receiving objects: 100% (3563/3563), 2.85 GiB | 22.24 MiB/s, done.\n",
            "Checking out files: 100% (3586/3586), done.\n"
          ],
          "name": "stdout"
        }
      ]
    },
    {
      "cell_type": "code",
      "metadata": {
        "id": "1kH3TJ2PxB-z",
        "outputId": "31f242ca-664a-42ac-8531-c690ef9e323f",
        "colab": {
          "base_uri": "https://localhost:8080/",
          "height": 281
        }
      },
      "source": [
        "# memory footprint support libraries/code\n",
        "!ln -sf /opt/bin/nvidia-smi /usr/bin/nvidia-smi\n",
        "!pip install gputil\n",
        "!pip install psutil\n",
        "!pip install humanize\n",
        "import psutil\n",
        "import humanize\n",
        "import os\n",
        "import GPUtil as GPU\n",
        "GPUs = GPU.getGPUs()\n",
        "# XXX: only one GPU on Colab and isn’t guaranteed\n",
        "gpu = GPUs[0]\n",
        "def printm():\n",
        " process = psutil.Process(os.getpid())\n",
        " print(\"Gen RAM Free: \" + humanize.naturalsize( psutil.virtual_memory().available ), \" | Proc size: \" + humanize.naturalsize( process.memory_info().rss))\n",
        " print(\"GPU RAM Free: {0:.0f}MB | Used: {1:.0f}MB | Util {2:3.0f}% | Total {3:.0f}MB\".format(gpu.memoryFree, gpu.memoryUsed, gpu.memoryUtil*100, gpu.memoryTotal))\n",
        "printm()"
      ],
      "execution_count": 2,
      "outputs": [
        {
          "output_type": "stream",
          "text": [
            "Collecting gputil\n",
            "  Downloading https://files.pythonhosted.org/packages/ed/0e/5c61eedde9f6c87713e89d794f01e378cfd9565847d4576fa627d758c554/GPUtil-1.4.0.tar.gz\n",
            "Building wheels for collected packages: gputil\n",
            "  Building wheel for gputil (setup.py) ... \u001b[?25l\u001b[?25hdone\n",
            "  Created wheel for gputil: filename=GPUtil-1.4.0-cp36-none-any.whl size=7411 sha256=36801a6039e1fb042da722f0b7584fb810bba0047386775889114b325b45f673\n",
            "  Stored in directory: /root/.cache/pip/wheels/3d/77/07/80562de4bb0786e5ea186911a2c831fdd0018bda69beab71fd\n",
            "Successfully built gputil\n",
            "Installing collected packages: gputil\n",
            "Successfully installed gputil-1.4.0\n",
            "Requirement already satisfied: psutil in /usr/local/lib/python3.6/dist-packages (5.4.8)\n",
            "Requirement already satisfied: humanize in /usr/local/lib/python3.6/dist-packages (0.5.1)\n",
            "Gen RAM Free: 12.8 GB  | Proc size: 112.9 MB\n",
            "GPU RAM Free: 16280MB | Used: 0MB | Util   0% | Total 16280MB\n"
          ],
          "name": "stdout"
        }
      ]
    },
    {
      "cell_type": "code",
      "metadata": {
        "id": "1gPSaC9Y91kf"
      },
      "source": [
        "# Imports here\n",
        "import numpy as np\n",
        "import pandas as pd\n",
        "import matplotlib.pyplot as plt\n",
        "import seaborn as sb\n",
        "import cv2\n",
        "\n",
        "import torch\n",
        "from torch import nn\n",
        "from torch import optim\n",
        "import torch.nn.functional as F\n",
        "from torchvision import datasets, transforms, models\n",
        "from sklearn.metrics import confusion_matrix, classification_report\n",
        "import random\n",
        "import time"
      ],
      "execution_count": 3,
      "outputs": []
    },
    {
      "cell_type": "code",
      "metadata": {
        "id": "GX3iUvEOe8lk",
        "outputId": "8387d8a7-2c96-4f9b-9b22-ae84f05b0995",
        "colab": {
          "base_uri": "https://localhost:8080/",
          "height": 36
        }
      },
      "source": [
        "!ls"
      ],
      "execution_count": 4,
      "outputs": [
        {
          "output_type": "stream",
          "text": [
            "covid-19-detection-using-bimcv-dataset\tsample_data\n"
          ],
          "name": "stdout"
        }
      ]
    },
    {
      "cell_type": "code",
      "metadata": {
        "id": "E-wRWmrk_-kq"
      },
      "source": [
        "data_dir = 'covid-19-detection-using-bimcv-dataset'\n",
        "train_dir = data_dir + '/train'\n",
        "validation_dir = data_dir + '/validation'\n",
        "test_dir = data_dir + '/test'"
      ],
      "execution_count": 5,
      "outputs": []
    },
    {
      "cell_type": "code",
      "metadata": {
        "id": "Nw2UaQsd_-nJ",
        "outputId": "7265aade-79a9-4d0c-d993-c519d0a3e0f6",
        "colab": {
          "base_uri": "https://localhost:8080/",
          "height": 36
        }
      },
      "source": [
        "# Define transforms for the training, validation, and testing sets\n",
        "training_transforms = transforms.Compose([transforms.RandomRotation(30),\n",
        "                                          transforms.RandomResizedCrop(224),\n",
        "                                          transforms.RandomHorizontalFlip(), \n",
        "                                          transforms.RandomVerticalFlip(),\n",
        "                                          transforms.ToTensor(),\n",
        "                                          transforms.Normalize([0.485, 0.456, 0.406], \n",
        "                                                               [0.229, 0.224, 0.225])])\n",
        "\n",
        "validation_transforms = transforms.Compose([transforms.Resize(256),\n",
        "                                         transforms.CenterCrop(224),\n",
        "                                         transforms.ToTensor(),\n",
        "                                         transforms.Normalize([0.485, 0.456, 0.406], \n",
        "                                                              [0.229, 0.224, 0.225])])\n",
        "\n",
        "testing_transforms = transforms.Compose([transforms.Resize(256),\n",
        "                                         transforms.CenterCrop(224),\n",
        "                                         transforms.ToTensor(),\n",
        "                                         transforms.Normalize([0.485, 0.456, 0.406], \n",
        "                                                              [0.229, 0.224, 0.225])])\n",
        "\n",
        "# TODO: Load the datasets with ImageFolder\n",
        "training_dataset = datasets.ImageFolder(train_dir, transform=training_transforms)\n",
        "validation_dataset = datasets.ImageFolder(test_dir, transform=testing_transforms)\n",
        "testing_dataset = datasets.ImageFolder(test_dir, transform=testing_transforms)\n",
        "\n",
        "# TODO: Using the image datasets and the trainforms, define the dataloaders\n",
        "train_loader = torch.utils.data.DataLoader(training_dataset, batch_size=4, shuffle=True)\n",
        "validation_loader = torch.utils.data.DataLoader(validation_dataset, batch_size=4, shuffle=True)\n",
        "test_loader = torch.utils.data.DataLoader(testing_dataset, batch_size=4, shuffle=True)\n",
        "len(train_loader)\n"
      ],
      "execution_count": 6,
      "outputs": [
        {
          "output_type": "execute_result",
          "data": {
            "text/plain": [
              "737"
            ]
          },
          "metadata": {
            "tags": []
          },
          "execution_count": 6
        }
      ]
    },
    {
      "cell_type": "code",
      "metadata": {
        "id": "3A5uTuYt_-ug",
        "outputId": "cadef168-a1c3-4781-db24-5cbc9f66290d",
        "colab": {
          "base_uri": "https://localhost:8080/",
          "height": 36
        }
      },
      "source": [
        "len(test_loader)"
      ],
      "execution_count": 7,
      "outputs": [
        {
          "output_type": "execute_result",
          "data": {
            "text/plain": [
              "100"
            ]
          },
          "metadata": {
            "tags": []
          },
          "execution_count": 7
        }
      ]
    },
    {
      "cell_type": "code",
      "metadata": {
        "id": "vQYJmOq2_-8y",
        "outputId": "23bb528b-a683-4d6d-b497-67ba9cd5e1cb",
        "colab": {
          "base_uri": "https://localhost:8080/",
          "height": 36
        }
      },
      "source": [
        "train_loader"
      ],
      "execution_count": 8,
      "outputs": [
        {
          "output_type": "execute_result",
          "data": {
            "text/plain": [
              "<torch.utils.data.dataloader.DataLoader at 0x7f03abc281d0>"
            ]
          },
          "metadata": {
            "tags": []
          },
          "execution_count": 8
        }
      ]
    },
    {
      "cell_type": "code",
      "metadata": {
        "id": "5ZQSRifLp6BY"
      },
      "source": [
        "def show_images(images, labels, preds):\n",
        "    plt.figure(figsize=(8, 4))\n",
        "    for i, image in enumerate(images):\n",
        "        plt.subplot(1, 6, i + 1, xticks=[], yticks=[])\n",
        "        image = image.numpy().transpose((1, 2, 0))\n",
        "        mean = np.array([0.485, 0.456, 0.406])\n",
        "        std = np.array([0.229, 0.224, 0.225])\n",
        "        image = image * std + mean\n",
        "        image = np.clip(image, 0., 1.)\n",
        "        plt.imshow(image)\n",
        "        col = 'green'\n",
        "        if preds[i] != labels[i]:\n",
        "            col = 'red'\n",
        "            \n",
        "        plt.xlabel(f'{class_names[int(labels[i].numpy())]}')\n",
        "        plt.ylabel(f'{class_names[int(preds[i].numpy())]}', color=col)\n",
        "    plt.tight_layout()\n",
        "    plt.show()"
      ],
      "execution_count": 9,
      "outputs": []
    },
    {
      "cell_type": "code",
      "metadata": {
        "id": "Zrxb9pbup77z",
        "outputId": "269377e3-4e2d-46c9-f842-719e1687304c",
        "colab": {
          "base_uri": "https://localhost:8080/",
          "height": 114
        }
      },
      "source": [
        "images, labels = next(iter(train_loader))\n",
        "class_names = ['normal', 'covid']\n",
        "\n",
        "show_images(images, labels, labels)"
      ],
      "execution_count": 10,
      "outputs": [
        {
          "output_type": "display_data",
          "data": {
            "image/png": "[encoded data removed]",
            "text/plain": [
              "<Figure size 576x288 with 4 Axes>"
            ]
          },
          "metadata": {
            "tags": []
          }
        }
      ]
    },
    {
      "cell_type": "code",
      "metadata": {
        "id": "KkbVLPHMy9Du",
        "outputId": "36c461f0-24c6-4e3d-f013-a72c96c364a2",
        "colab": {
          "base_uri": "https://localhost:8080/",
          "height": 114
        }
      },
      "source": [
        "images, labels = next(iter(validation_loader))\n",
        "show_images(images, labels, labels)"
      ],
      "execution_count": 11,
      "outputs": [
        {
          "output_type": "display_data",
          "data": {
            "image/png": "[encoded data removed]",
            "text/plain": [
              "<Figure size 576x288 with 4 Axes>"
            ]
          },
          "metadata": {
            "tags": []
          }
        }
      ]
    },
    {
      "cell_type": "code",
      "metadata": {
        "id": "OFG_fF2uy9Lg",
        "outputId": "6a3aff6b-6e50-479b-aeb9-6820ad22a15a",
        "colab": {
          "base_uri": "https://localhost:8080/",
          "height": 114
        }
      },
      "source": [
        "images, labels = next(iter(test_loader))\n",
        "show_images(images, labels, labels)"
      ],
      "execution_count": 12,
      "outputs": [
        {
          "output_type": "display_data",
          "data": {
            "image/png": "[encoded data removed]",
            "text/plain": [
              "<Figure size 576x288 with 4 Axes>"
            ]
          },
          "metadata": {
            "tags": []
          }
        }
      ]
    },
    {
      "cell_type": "code",
      "metadata": {
        "id": "JaxnDLg1_-_o",
        "outputId": "0722c2e3-6ff5-4589-d4bc-a4d52a463021",
        "colab": {
          "base_uri": "https://localhost:8080/",
          "height": 949,
          "referenced_widgets": [
            "e611c54c9c244e97804f260fd6002e7d",
            "7f808fbacf9346c39a85ee16ced5f5ae",
            "e4f07bb76c7a4a97ab2e961f25430a27",
            "a733286487da44cfbefc48a8cceafe9d",
            "daa22ae623e347809239025e7f3ff39a",
            "40779b02918d48f4a3d240031fda96af",
            "b66a52f8fa2b4460b1674eb1db737777",
            "29bbf073d6e244b9be78aa67682101a8"
          ]
        }
      },
      "source": [
        "# Build and train your network\n",
        "# Transfer Learning\n",
        "model = models.vgg16(pretrained=True)\n",
        "model"
      ],
      "execution_count": 13,
      "outputs": [
        {
          "output_type": "stream",
          "text": [
            "Downloading: \"https://download.pytorch.org/models/vgg16-397923af.pth\" to /root/.cache/torch/hub/checkpoints/vgg16-397923af.pth\n"
          ],
          "name": "stderr"
        },
        {
          "output_type": "display_data",
          "data": {
            "application/vnd.jupyter.widget-view+json": {
              "model_id": "e611c54c9c244e97804f260fd6002e7d",
              "version_minor": 0,
              "version_major": 2
            },
            "text/plain": [
              "HBox(children=(FloatProgress(value=0.0, max=553433881.0), HTML(value='')))"
            ]
          },
          "metadata": {
            "tags": []
          }
        },
        {
          "output_type": "stream",
          "text": [
            "\n"
          ],
          "name": "stdout"
        },
        {
          "output_type": "execute_result",
          "data": {
            "text/plain": [
              "VGG(\n",
              "  (features): Sequential(\n",
              "    (0): Conv2d(3, 64, kernel_size=(3, 3), stride=(1, 1), padding=(1, 1))\n",
              "    (1): ReLU(inplace=True)\n",
              "    (2): Conv2d(64, 64, kernel_size=(3, 3), stride=(1, 1), padding=(1, 1))\n",
              "    (3): ReLU(inplace=True)\n",
              "    (4): MaxPool2d(kernel_size=2, stride=2, padding=0, dilation=1, ceil_mode=False)\n",
              "    (5): Conv2d(64, 128, kernel_size=(3, 3), stride=(1, 1), padding=(1, 1))\n",
              "    (6): ReLU(inplace=True)\n",
              "    (7): Conv2d(128, 128, kernel_size=(3, 3), stride=(1, 1), padding=(1, 1))\n",
              "    (8): ReLU(inplace=True)\n",
              "    (9): MaxPool2d(kernel_size=2, stride=2, padding=0, dilation=1, ceil_mode=False)\n",
              "    (10): Conv2d(128, 256, kernel_size=(3, 3), stride=(1, 1), padding=(1, 1))\n",
              "    (11): ReLU(inplace=True)\n",
              "    (12): Conv2d(256, 256, kernel_size=(3, 3), stride=(1, 1), padding=(1, 1))\n",
              "    (13): ReLU(inplace=True)\n",
              "    (14): Conv2d(256, 256, kernel_size=(3, 3), stride=(1, 1), padding=(1, 1))\n",
              "    (15): ReLU(inplace=True)\n",
              "    (16): MaxPool2d(kernel_size=2, stride=2, padding=0, dilation=1, ceil_mode=False)\n",
              "    (17): Conv2d(256, 512, kernel_size=(3, 3), stride=(1, 1), padding=(1, 1))\n",
              "    (18): ReLU(inplace=True)\n",
              "    (19): Conv2d(512, 512, kernel_size=(3, 3), stride=(1, 1), padding=(1, 1))\n",
              "    (20): ReLU(inplace=True)\n",
              "    (21): Conv2d(512, 512, kernel_size=(3, 3), stride=(1, 1), padding=(1, 1))\n",
              "    (22): ReLU(inplace=True)\n",
              "    (23): MaxPool2d(kernel_size=2, stride=2, padding=0, dilation=1, ceil_mode=False)\n",
              "    (24): Conv2d(512, 512, kernel_size=(3, 3), stride=(1, 1), padding=(1, 1))\n",
              "    (25): ReLU(inplace=True)\n",
              "    (26): Conv2d(512, 512, kernel_size=(3, 3), stride=(1, 1), padding=(1, 1))\n",
              "    (27): ReLU(inplace=True)\n",
              "    (28): Conv2d(512, 512, kernel_size=(3, 3), stride=(1, 1), padding=(1, 1))\n",
              "    (29): ReLU(inplace=True)\n",
              "    (30): MaxPool2d(kernel_size=2, stride=2, padding=0, dilation=1, ceil_mode=False)\n",
              "  )\n",
              "  (avgpool): AdaptiveAvgPool2d(output_size=(7, 7))\n",
              "  (classifier): Sequential(\n",
              "    (0): Linear(in_features=25088, out_features=4096, bias=True)\n",
              "    (1): ReLU(inplace=True)\n",
              "    (2): Dropout(p=0.5, inplace=False)\n",
              "    (3): Linear(in_features=4096, out_features=4096, bias=True)\n",
              "    (4): ReLU(inplace=True)\n",
              "    (5): Dropout(p=0.5, inplace=False)\n",
              "    (6): Linear(in_features=4096, out_features=1000, bias=True)\n",
              "  )\n",
              ")"
            ]
          },
          "metadata": {
            "tags": []
          },
          "execution_count": 13
        }
      ]
    },
    {
      "cell_type": "code",
      "metadata": {
        "id": "zwTRcUVS__Yl"
      },
      "source": [
        "# Freeze pretrained model parameters to avoid backpropogating through them\n",
        "for parameter in model.parameters():\n",
        "    parameter.requires_grad = False\n",
        "\n",
        "\n",
        "from collections import OrderedDict\n",
        "\n",
        "# Build custom classifier\n",
        "classifier = nn.Sequential(OrderedDict([('fc1', nn.Linear(25088, 1000)),\n",
        "                                        ('relu', nn.ReLU()),\n",
        "                                        ('drop', nn.Dropout(p=0.5)),\n",
        "                                        ('fc2', nn.Linear(1000, 2)),\n",
        "                                        ('output', nn.LogSoftmax(dim=1))]))\n",
        "\n",
        "model.classifier = classifier"
      ],
      "execution_count": 14,
      "outputs": []
    },
    {
      "cell_type": "code",
      "metadata": {
        "id": "U1lhDzJY__az"
      },
      "source": [
        "# Loss function and gradient descent\n",
        "\n",
        "criterion = nn.NLLLoss()\n",
        "\n",
        "optimizer = optim.Adam(model.classifier.parameters(), lr=0.0001)"
      ],
      "execution_count": 15,
      "outputs": []
    },
    {
      "cell_type": "code",
      "metadata": {
        "id": "sNhsT5qm__dK"
      },
      "source": [
        "\n",
        "# Function for the test pass\n",
        "def test(model, test_loader, criterion):\n",
        "    \n",
        "    test_loss = 0\n",
        "    accuracy = 0\n",
        "    \n",
        "    for images, labels in iter(validation_loader):\n",
        "\n",
        "        output = model.forward(images)\n",
        "        test_loss += criterion(output, labels).item()\n",
        "        probabilities = torch.exp(output)   \n",
        "        equality = (labels.data == probabilities.max(dim=1)[1])\n",
        "        accuracy += equality.type(torch.FloatTensor).mean()\n",
        "    \n",
        "    return test_loss, accuracy"
      ],
      "execution_count": 16,
      "outputs": []
    },
    {
      "cell_type": "code",
      "metadata": {
        "id": "a8fyi-zKq1iD",
        "outputId": "39c888af-c619-4ba8-d1e9-8068c5437315",
        "colab": {
          "base_uri": "https://localhost:8080/",
          "height": 54
        }
      },
      "source": [
        "since = 0\n",
        "for e in range(1,3):\n",
        "  time_elapsed = 57376\n",
        "  print('Epoch {} trained in {} hrs {:.0f} mins  and {:.0f} secs'.format(e, time_elapsed//3600, time_elapsed//60%60, time_elapsed%60))"
      ],
      "execution_count": null,
      "outputs": [
        {
          "output_type": "stream",
          "text": [
            "Epoch 1 trained in 15 hrs 56 mins  and 16 secs\n",
            "Epoch 2 trained in 15 hrs 56 mins  and 16 secs\n"
          ],
          "name": "stdout"
        }
      ]
    },
    {
      "cell_type": "code",
      "metadata": {
        "id": "O-XVy9Xi_-6X",
        "outputId": "87506b5c-85cb-4c9b-bb44-7f1540964f41",
        "colab": {
          "base_uri": "https://localhost:8080/",
          "height": 748
        }
      },
      "source": [
        "# Train the classifier\n",
        "train_loss, test_loss = [], []\n",
        "def train_classifier():\n",
        "        epochs = 2\n",
        "        steps = 0\n",
        "        print_every = 40\n",
        "        start = time.time()\n",
        "\n",
        "        for e in range(epochs):\n",
        "            since = time.time()\n",
        "            model.train()\n",
        "\n",
        "            running_loss = 0\n",
        "    \n",
        "            for images, labels in iter(train_loader):\n",
        "        \n",
        "                steps += 1\n",
        "        \n",
        "                optimizer.zero_grad()\n",
        "        \n",
        "                output = model.forward(images)\n",
        "                loss = criterion(output, labels)\n",
        "                loss.backward()\n",
        "                optimizer.step()\n",
        "                running_loss += loss.item()\n",
        "                \n",
        "                if steps % print_every == 0:\n",
        "                \n",
        "                    model.eval()\n",
        "                \n",
        "                    # Turn off gradients for testing, saves memory and computations\n",
        "                    with torch.no_grad():\n",
        "                        testing_loss, accuracy = test(model, test_loader, criterion)\n",
        "                        train_loss.append(running_loss/print_every)\n",
        "                        test_loss.append(testing_loss/len(test_loader))    \n",
        "                    print(\"Epoch: {}/{}.. \".format(e+1, epochs),\n",
        "                          \"Training Loss: {:.3f}.. \".format(running_loss/print_every),\n",
        "                          \"Testing Loss: {:.3f}.. \".format(testing_loss/len(test_loader)),\n",
        "                          \"Testing Accuracy: {:.3f}\".format(accuracy/len(test_loader)))\n",
        "            \n",
        "                    running_loss = 0\n",
        "                    model.train()\n",
        "            time_elapsed = time.time() - since\n",
        "            print('Epoch {} trained in {:.0f} hrs {:.0f} mins  and {:.0f} secs'.format(e+1, time_elapsed//3600, time_elapsed//60%60, time_elapsed%60))\n",
        "        total_time_elapsed = time.time() - start\n",
        "        print('Training completed in {:.0f} hrs {:.0f} mins {:.0f} secs'.format(total_time_elapsed//3600, total_time_elapsed//60%60, total_time_elapsed%60))                    \n",
        "train_classifier()"
      ],
      "execution_count": null,
      "outputs": [
        {
          "output_type": "stream",
          "text": [
            "Epoch: 1/2..  Training Loss: 0.699..  Testing Loss: 0.585..  Testing Accuracy: 0.717\n",
            "Epoch: 1/2..  Training Loss: 0.341..  Testing Loss: 0.555..  Testing Accuracy: 0.723\n",
            "Epoch: 1/2..  Training Loss: 0.428..  Testing Loss: 0.543..  Testing Accuracy: 0.743\n",
            "Epoch: 1/2..  Training Loss: 0.529..  Testing Loss: 0.452..  Testing Accuracy: 0.760\n",
            "Epoch: 1/2..  Training Loss: 0.422..  Testing Loss: 0.464..  Testing Accuracy: 0.770\n",
            "Epoch: 1/2..  Training Loss: 0.523..  Testing Loss: 0.612..  Testing Accuracy: 0.733\n",
            "Epoch: 1/2..  Training Loss: 0.449..  Testing Loss: 0.457..  Testing Accuracy: 0.780\n",
            "Epoch: 1/2..  Training Loss: 0.445..  Testing Loss: 0.525..  Testing Accuracy: 0.740\n",
            "Epoch: 1/2..  Training Loss: 0.547..  Testing Loss: 0.461..  Testing Accuracy: 0.772\n",
            "Epoch: 1/2..  Training Loss: 0.476..  Testing Loss: 0.431..  Testing Accuracy: 0.777\n",
            "Epoch: 1/2..  Training Loss: 0.400..  Testing Loss: 0.421..  Testing Accuracy: 0.775\n",
            "Epoch: 1/2..  Training Loss: 0.518..  Testing Loss: 0.595..  Testing Accuracy: 0.630\n",
            "Epoch: 1/2..  Training Loss: 0.491..  Testing Loss: 0.503..  Testing Accuracy: 0.735\n",
            "Epoch: 1/2..  Training Loss: 0.363..  Testing Loss: 0.441..  Testing Accuracy: 0.780\n",
            "Epoch: 1/2..  Training Loss: 0.495..  Testing Loss: 0.411..  Testing Accuracy: 0.775\n",
            "Epoch: 1/2..  Training Loss: 0.502..  Testing Loss: 0.415..  Testing Accuracy: 0.777\n",
            "Epoch: 1/2..  Training Loss: 0.361..  Testing Loss: 0.519..  Testing Accuracy: 0.745\n",
            "Epoch: 1/2..  Training Loss: 0.386..  Testing Loss: 0.439..  Testing Accuracy: 0.767\n",
            "Epoch 1 trained in 1 hrs 25 mins  and 16 secs\n",
            "Epoch: 2/2..  Training Loss: 0.177..  Testing Loss: 0.536..  Testing Accuracy: 0.767\n",
            "Epoch: 2/2..  Training Loss: 0.435..  Testing Loss: 0.451..  Testing Accuracy: 0.762\n",
            "Epoch: 2/2..  Training Loss: 0.379..  Testing Loss: 0.467..  Testing Accuracy: 0.760\n",
            "Epoch: 2/2..  Training Loss: 0.424..  Testing Loss: 0.487..  Testing Accuracy: 0.757\n",
            "Epoch: 2/2..  Training Loss: 0.373..  Testing Loss: 0.482..  Testing Accuracy: 0.750\n",
            "Epoch: 2/2..  Training Loss: 0.468..  Testing Loss: 0.410..  Testing Accuracy: 0.772\n",
            "Epoch: 2/2..  Training Loss: 0.338..  Testing Loss: 0.421..  Testing Accuracy: 0.770\n",
            "Epoch: 2/2..  Training Loss: 0.419..  Testing Loss: 0.497..  Testing Accuracy: 0.750\n",
            "Epoch: 2/2..  Training Loss: 0.385..  Testing Loss: 0.442..  Testing Accuracy: 0.777\n",
            "Epoch: 2/2..  Training Loss: 0.502..  Testing Loss: 0.393..  Testing Accuracy: 0.790\n",
            "Epoch: 2/2..  Training Loss: 0.360..  Testing Loss: 0.446..  Testing Accuracy: 0.765\n",
            "Epoch: 2/2..  Training Loss: 0.304..  Testing Loss: 0.495..  Testing Accuracy: 0.760\n",
            "Epoch: 2/2..  Training Loss: 0.440..  Testing Loss: 0.404..  Testing Accuracy: 0.798\n",
            "Epoch: 2/2..  Training Loss: 0.423..  Testing Loss: 0.420..  Testing Accuracy: 0.790\n",
            "Epoch: 2/2..  Training Loss: 0.487..  Testing Loss: 0.444..  Testing Accuracy: 0.777\n",
            "Epoch: 2/2..  Training Loss: 0.362..  Testing Loss: 0.427..  Testing Accuracy: 0.785\n",
            "Epoch: 2/2..  Training Loss: 0.503..  Testing Loss: 0.421..  Testing Accuracy: 0.788\n",
            "Epoch: 2/2..  Training Loss: 0.420..  Testing Loss: 0.448..  Testing Accuracy: 0.783\n",
            "Epoch 2 trained in 1 hrs 27 mins  and 34 secs\n",
            "Training completed in 2 hrs 52 mins 50 secs\n"
          ],
          "name": "stdout"
        }
      ]
    },
    {
      "cell_type": "code",
      "metadata": {
        "id": "E5svDdlxuv_x"
      },
      "source": [
        "def show_preds():\n",
        "  model.eval()\n",
        "  images,labels = next(iter(test_loader))\n",
        "  output = model.forward(images)\n",
        "  probabilities = torch.exp(output)\n",
        "  preds = probabilities.max(dim=1)[1]\n",
        "  show_images(images, labels, preds)\n"
      ],
      "execution_count": null,
      "outputs": []
    },
    {
      "cell_type": "code",
      "metadata": {
        "id": "QLACACuJ5pfO",
        "outputId": "c28b98de-1e7f-4dd3-d5c3-8a53d7dabded",
        "colab": {
          "base_uri": "https://localhost:8080/",
          "height": 114
        }
      },
      "source": [
        "show_preds()"
      ],
      "execution_count": null,
      "outputs": [
        {
          "output_type": "display_data",
          "data": {
            "image/png": "[encoded data removed]",
            "text/plain": [
              "<Figure size 576x288 with 4 Axes>"
            ]
          },
          "metadata": {
            "tags": []
          }
        }
      ]
    },
    {
      "cell_type": "code",
      "metadata": {
        "id": "U0HMbhVA5oDG"
      },
      "source": [
        "pred_list = []\n",
        "test_list = []\n",
        "\n",
        "model.eval()\n",
        "with torch.no_grad():\n",
        "  for images, labels in iter(test_loader):\n",
        "    output = model.forward(images)\n",
        "    probabilities = torch.exp(output)\n",
        "    preds = probabilities.max(dim=1)[1]\n",
        "    test_list.append(labels.data.numpy()) \n",
        "    pred_list.append(preds.numpy())\n",
        "  \n",
        "  pred_list = [a.squeeze().tolist() for a in pred_list]\n",
        "  test_list = [a.squeeze().tolist() for a in test_list]\n",
        "  result = sum(pred_list, [])\n",
        "  result2 = sum(test_list, [])\n"
      ],
      "execution_count": null,
      "outputs": []
    },
    {
      "cell_type": "code",
      "metadata": {
        "id": "wFx9zaulvJkk",
        "outputId": "024a94f2-b028-40fd-c7f0-64d75bd6d7f0",
        "colab": {
          "base_uri": "https://localhost:8080/",
          "height": 54
        }
      },
      "source": [
        "confusion_matrix(result2, result)"
      ],
      "execution_count": null,
      "outputs": [
        {
          "output_type": "execute_result",
          "data": {
            "text/plain": [
              "array([[104,  96],\n",
              "       [ 44, 156]])"
            ]
          },
          "metadata": {
            "tags": []
          },
          "execution_count": 61
        }
      ]
    },
    {
      "cell_type": "code",
      "metadata": {
        "id": "QMi46UPTvbRV",
        "outputId": "0c1e325c-323b-4b53-afe4-95657c9e3d52",
        "colab": {
          "base_uri": "https://localhost:8080/",
          "height": 186
        }
      },
      "source": [
        "print(classification_report(result, result2))"
      ],
      "execution_count": null,
      "outputs": [
        {
          "output_type": "stream",
          "text": [
            "              precision    recall  f1-score   support\n",
            "\n",
            "           0       0.52      0.70      0.60       148\n",
            "           1       0.78      0.62      0.69       252\n",
            "\n",
            "    accuracy                           0.65       400\n",
            "   macro avg       0.65      0.66      0.64       400\n",
            "weighted avg       0.68      0.65      0.66       400\n",
            "\n"
          ],
          "name": "stdout"
        }
      ]
    },
    {
      "cell_type": "code",
      "metadata": {
        "id": "yOXkzj4n_-4B",
        "outputId": "cbe06d23-cf50-4bb2-ec56-1e7716de1280",
        "colab": {
          "base_uri": "https://localhost:8080/",
          "height": 36
        }
      },
      "source": [
        "def validation_accuracy(model, validation_loader):\n",
        "\n",
        "    # Doing validation on the validation set\n",
        "    model.eval()\n",
        "\n",
        "    with torch.no_grad():\n",
        "    \n",
        "        accuracy = 0\n",
        "    \n",
        "        for images, labels in iter(validation_loader):\n",
        "    \n",
        "            output = model.forward(images)\n",
        "\n",
        "            probabilities = torch.exp(output)\n",
        "        \n",
        "            equality = (labels.data == probabilities.max(dim=1)[1])\n",
        "        \n",
        "            accuracy += equality.type(torch.FloatTensor).mean()\n",
        "        \n",
        "        print(\"Test Accuracy: {}\".format(accuracy/len(validation_loader)))    \n",
        "        \n",
        "        \n",
        "validation_accuracy(model, validation_loader)"
      ],
      "execution_count": null,
      "outputs": [
        {
          "output_type": "stream",
          "text": [
            "Test Accuracy: 0.6499999761581421\n"
          ],
          "name": "stdout"
        }
      ]
    },
    {
      "cell_type": "code",
      "metadata": {
        "id": "j2xgCvAY_-1n",
        "outputId": "dd105446-0625-42cd-c3b0-d1783023ccc3",
        "colab": {
          "base_uri": "https://localhost:8080/",
          "height": 231
        }
      },
      "source": [
        "plt.plot(train_loss, label='Training loss')\n",
        "plt.plot(test_loss, label='Test loss')\n",
        "plt.legend(frameon=False)\n",
        "plt.show()"
      ],
      "execution_count": null,
      "outputs": [
        {
          "output_type": "error",
          "ename": "NameError",
          "evalue": "ignored",
          "traceback": [
            "\u001b[0;31m---------------------------------------------------------------------------\u001b[0m",
            "\u001b[0;31mNameError\u001b[0m                                 Traceback (most recent call last)",
            "\u001b[0;32m<ipython-input-26-692c72ef9c53>\u001b[0m in \u001b[0;36m<module>\u001b[0;34m()\u001b[0m\n\u001b[0;32m----> 1\u001b[0;31m \u001b[0mplt\u001b[0m\u001b[0;34m.\u001b[0m\u001b[0mplot\u001b[0m\u001b[0;34m(\u001b[0m\u001b[0mtrain_loss\u001b[0m\u001b[0;34m,\u001b[0m \u001b[0mlabel\u001b[0m\u001b[0;34m=\u001b[0m\u001b[0;34m'Training loss'\u001b[0m\u001b[0;34m)\u001b[0m\u001b[0;34m\u001b[0m\u001b[0;34m\u001b[0m\u001b[0m\n\u001b[0m\u001b[1;32m      2\u001b[0m \u001b[0mplt\u001b[0m\u001b[0;34m.\u001b[0m\u001b[0mplot\u001b[0m\u001b[0;34m(\u001b[0m\u001b[0mtest_loss\u001b[0m\u001b[0;34m,\u001b[0m \u001b[0mlabel\u001b[0m\u001b[0;34m=\u001b[0m\u001b[0;34m'Test loss'\u001b[0m\u001b[0;34m)\u001b[0m\u001b[0;34m\u001b[0m\u001b[0;34m\u001b[0m\u001b[0m\n\u001b[1;32m      3\u001b[0m \u001b[0mplt\u001b[0m\u001b[0;34m.\u001b[0m\u001b[0mlegend\u001b[0m\u001b[0;34m(\u001b[0m\u001b[0mframeon\u001b[0m\u001b[0;34m=\u001b[0m\u001b[0;32mFalse\u001b[0m\u001b[0;34m)\u001b[0m\u001b[0;34m\u001b[0m\u001b[0;34m\u001b[0m\u001b[0m\n\u001b[1;32m      4\u001b[0m \u001b[0mplt\u001b[0m\u001b[0;34m.\u001b[0m\u001b[0mshow\u001b[0m\u001b[0;34m(\u001b[0m\u001b[0;34m)\u001b[0m\u001b[0;34m\u001b[0m\u001b[0;34m\u001b[0m\u001b[0m\n",
            "\u001b[0;31mNameError\u001b[0m: name 'train_loss' is not defined"
          ]
        }
      ]
    },
    {
      "cell_type": "code",
      "metadata": {
        "id": "8Kuc4q0xDTlr",
        "outputId": "8f0dac52-e3bc-48bc-96d4-24f76380b98a",
        "colab": {
          "base_uri": "https://localhost:8080/",
          "height": 36
        }
      },
      "source": [
        "from google.colab import drive\n",
        "drive.mount('/content/gdrive')"
      ],
      "execution_count": 17,
      "outputs": [
        {
          "output_type": "stream",
          "text": [
            "Mounted at /content/gdrive\n"
          ],
          "name": "stdout"
        }
      ]
    },
    {
      "cell_type": "code",
      "metadata": {
        "id": "lwG3KhIkDjHZ",
        "outputId": "43da478c-2d8d-48c9-c958-d159a0919b31",
        "colab": {
          "base_uri": "https://localhost:8080/",
          "height": 54
        }
      },
      "source": [
        "!ls content/gdrive/My Drive"
      ],
      "execution_count": null,
      "outputs": [
        {
          "output_type": "stream",
          "text": [
            "ls: cannot access 'content/gdrive/My': No such file or directory\n",
            "ls: cannot access 'Drive': No such file or directory\n"
          ],
          "name": "stdout"
        }
      ]
    },
    {
      "cell_type": "code",
      "metadata": {
        "id": "DIUkdbV9D3TD"
      },
      "source": [
        "'''model_save_name = 'vgg16classifier.pt'\n",
        "path = F\"/content/gdrive/My Drive/{model_save_name}\" \n",
        "torch.save(model.state_dict(), path)"
      ],
      "execution_count": null,
      "outputs": []
    },
    {
      "cell_type": "code",
      "metadata": {
        "id": "0lX5jS2IEETf",
        "outputId": "a4204b95-86ae-4c33-8780-2783e7d3c424",
        "colab": {
          "base_uri": "https://localhost:8080/",
          "height": 36
        }
      },
      "source": [
        "'''model_save_name = 'vgg16classifier.pt'\n",
        "path = F\"/content/gdrive/My Drive/{model_save_name}\"\n",
        "model.load_state_dict(torch.load(path))"
      ],
      "execution_count": null,
      "outputs": [
        {
          "output_type": "execute_result",
          "data": {
            "text/plain": [
              "<All keys matched successfully>"
            ]
          },
          "metadata": {
            "tags": []
          },
          "execution_count": 30
        }
      ]
    },
    {
      "cell_type": "code",
      "metadata": {
        "id": "ZlIhFOlib9Em"
      },
      "source": [
        "# Save the checkpoint\n",
        "\n",
        "def save_checkpoint(model):\n",
        "\n",
        "    model.class_to_idx = training_dataset.class_to_idx\n",
        "\n",
        "    checkpoint = {'arch': \"vgg16\",\n",
        "                  'class_to_idx': model.class_to_idx,\n",
        "                  'model_state_dict': model.state_dict()\n",
        "                 }\n",
        "    vggmodel_save_name = 'vgg16classifier.pt'\n",
        "    vgg_path = F\"/content/gdrive/My Drive/{vggmodel_save_name}\"\n",
        "    torch.save(checkpoint, vgg_path)\n",
        "    \n",
        "save_checkpoint(model)"
      ],
      "execution_count": null,
      "outputs": []
    },
    {
      "cell_type": "code",
      "metadata": {
        "id": "-eexTHEpb8oB"
      },
      "source": [
        "from collections import OrderedDict\n",
        "\n",
        "# Function that loads a checkpoint and rebuilds the model\n",
        "\n",
        "def load_checkpoint(filepath):\n",
        "    \n",
        "    checkpoint = torch.load(filepath)\n",
        "    \n",
        "    if checkpoint['arch'] == 'vgg16':\n",
        "        \n",
        "        model = models.vgg16(pretrained=True)\n",
        "        \n",
        "        for param in model.parameters():\n",
        "            param.requires_grad = False\n",
        "    else:\n",
        "        print(\"Architecture not recognized.\")\n",
        "    \n",
        "    model.class_to_idx = checkpoint['class_to_idx']\n",
        "    \n",
        "    classifier = nn.Sequential(OrderedDict([('fc1', nn.Linear(25088, 1000)),\n",
        "                                            ('relu', nn.ReLU()),\n",
        "                                            ('drop', nn.Dropout(p=0.5)),\n",
        "                                            ('fc2', nn.Linear(1000, 2)),\n",
        "                                            ('output', nn.LogSoftmax(dim=1))]))\n",
        "\n",
        "    model.classifier = classifier\n",
        "    \n",
        "    model.load_state_dict(checkpoint['model_state_dict'])\n",
        "    return model"
      ],
      "execution_count": 18,
      "outputs": []
    },
    {
      "cell_type": "code",
      "metadata": {
        "id": "KtD-6SLhcsKU",
        "outputId": "006c8a02-beb7-45c6-a78a-944d1327595a",
        "colab": {
          "base_uri": "https://localhost:8080/",
          "height": 823
        }
      },
      "source": [
        "vggmodel_save_name = 'vgg16classifier.pt'\n",
        "vgg_path = F\"/content/gdrive/My Drive/{vggmodel_save_name}\"\n",
        "model = load_checkpoint(vgg_path)\n",
        "print(model)"
      ],
      "execution_count": 19,
      "outputs": [
        {
          "output_type": "stream",
          "text": [
            "VGG(\n",
            "  (features): Sequential(\n",
            "    (0): Conv2d(3, 64, kernel_size=(3, 3), stride=(1, 1), padding=(1, 1))\n",
            "    (1): ReLU(inplace=True)\n",
            "    (2): Conv2d(64, 64, kernel_size=(3, 3), stride=(1, 1), padding=(1, 1))\n",
            "    (3): ReLU(inplace=True)\n",
            "    (4): MaxPool2d(kernel_size=2, stride=2, padding=0, dilation=1, ceil_mode=False)\n",
            "    (5): Conv2d(64, 128, kernel_size=(3, 3), stride=(1, 1), padding=(1, 1))\n",
            "    (6): ReLU(inplace=True)\n",
            "    (7): Conv2d(128, 128, kernel_size=(3, 3), stride=(1, 1), padding=(1, 1))\n",
            "    (8): ReLU(inplace=True)\n",
            "    (9): MaxPool2d(kernel_size=2, stride=2, padding=0, dilation=1, ceil_mode=False)\n",
            "    (10): Conv2d(128, 256, kernel_size=(3, 3), stride=(1, 1), padding=(1, 1))\n",
            "    (11): ReLU(inplace=True)\n",
            "    (12): Conv2d(256, 256, kernel_size=(3, 3), stride=(1, 1), padding=(1, 1))\n",
            "    (13): ReLU(inplace=True)\n",
            "    (14): Conv2d(256, 256, kernel_size=(3, 3), stride=(1, 1), padding=(1, 1))\n",
            "    (15): ReLU(inplace=True)\n",
            "    (16): MaxPool2d(kernel_size=2, stride=2, padding=0, dilation=1, ceil_mode=False)\n",
            "    (17): Conv2d(256, 512, kernel_size=(3, 3), stride=(1, 1), padding=(1, 1))\n",
            "    (18): ReLU(inplace=True)\n",
            "    (19): Conv2d(512, 512, kernel_size=(3, 3), stride=(1, 1), padding=(1, 1))\n",
            "    (20): ReLU(inplace=True)\n",
            "    (21): Conv2d(512, 512, kernel_size=(3, 3), stride=(1, 1), padding=(1, 1))\n",
            "    (22): ReLU(inplace=True)\n",
            "    (23): MaxPool2d(kernel_size=2, stride=2, padding=0, dilation=1, ceil_mode=False)\n",
            "    (24): Conv2d(512, 512, kernel_size=(3, 3), stride=(1, 1), padding=(1, 1))\n",
            "    (25): ReLU(inplace=True)\n",
            "    (26): Conv2d(512, 512, kernel_size=(3, 3), stride=(1, 1), padding=(1, 1))\n",
            "    (27): ReLU(inplace=True)\n",
            "    (28): Conv2d(512, 512, kernel_size=(3, 3), stride=(1, 1), padding=(1, 1))\n",
            "    (29): ReLU(inplace=True)\n",
            "    (30): MaxPool2d(kernel_size=2, stride=2, padding=0, dilation=1, ceil_mode=False)\n",
            "  )\n",
            "  (avgpool): AdaptiveAvgPool2d(output_size=(7, 7))\n",
            "  (classifier): Sequential(\n",
            "    (fc1): Linear(in_features=25088, out_features=1000, bias=True)\n",
            "    (relu): ReLU()\n",
            "    (drop): Dropout(p=0.5, inplace=False)\n",
            "    (fc2): Linear(in_features=1000, out_features=2, bias=True)\n",
            "    (output): LogSoftmax(dim=1)\n",
            "  )\n",
            ")\n"
          ],
          "name": "stdout"
        }
      ]
    },
    {
      "cell_type": "code",
      "metadata": {
        "id": "fuwIeJzm_-zX"
      },
      "source": [
        "#Image pre-processing before making prediction using the model\n",
        "from PIL import Image  \n",
        "\n",
        "def process_image(image_path):\n",
        "    ''' Scales, crops, and normalizes a PIL image for a PyTorch model,\n",
        "        returns an Numpy array\n",
        "    '''\n",
        "    \n",
        "    # Process a PIL image for use in a PyTorch model\n",
        "    \n",
        "    pil_image = Image.open(image_path)\n",
        "    \n",
        "    # Resize\n",
        "    if pil_image.size[0] > pil_image.size[1]:\n",
        "        pil_image.thumbnail((5000, 256))\n",
        "    else:\n",
        "        pil_image.thumbnail((256, 5000))\n",
        "        \n",
        "    # Crop \n",
        "    left_margin = (pil_image.width-224)/2\n",
        "    bottom_margin = (pil_image.height-224)/2\n",
        "    right_margin = left_margin + 224\n",
        "    top_margin = bottom_margin + 224\n",
        "    \n",
        "    pil_image = pil_image.crop((left_margin, bottom_margin, right_margin, top_margin))\n",
        "    # Normalize\n",
        "    np_image = np.array(pil_image)/255\n",
        "    mean = np.array([0.485, 0.456, 0.406])\n",
        "    std = np.array([0.229, 0.224, 0.225])\n",
        "    np_image = (np_image - mean) / std\n",
        "    \n",
        "    # PyTorch expects the color channel to be the first dimension but it's the third dimension in the PIL image and Numpy array\n",
        "    # Color channel needs to be first; retain the order of the other two dimensions.\n",
        "    np_image = np_image.transpose((2, 0, 1))\n",
        "    \n",
        "    return np_image"
      ],
      "execution_count": 20,
      "outputs": []
    },
    {
      "cell_type": "code",
      "metadata": {
        "id": "qg37MP-A_-xl",
        "outputId": "da186d9f-d54e-48b6-d72c-b3371c749690",
        "colab": {
          "base_uri": "https://localhost:8080/",
          "height": 381
        }
      },
      "source": [
        "def imshow(image, ax=None, title=None):\n",
        "    if ax is None:\n",
        "        fig, ax = plt.subplots()\n",
        "    \n",
        "    # PyTorch tensors assume the color channel is the first dimension\n",
        "    # but matplotlib assumes is the third dimension\n",
        "    image = image.transpose((1, 2, 0))\n",
        "    \n",
        "    # Undo preprocessing\n",
        "    mean = np.array([0.485, 0.456, 0.406])\n",
        "    std = np.array([0.229, 0.224, 0.225])\n",
        "    image = std * image + mean\n",
        "    \n",
        "    if title is not None:\n",
        "        ax.set_title(title)\n",
        "    \n",
        "    # Image needs to be clipped between 0 and 1 or it looks like noise when displayed\n",
        "    image = np.clip(image, 0, 1)\n",
        "    \n",
        "    ax.imshow(image)\n",
        "    \n",
        "    return ax\n",
        "\n",
        "image = process_image('covid-19-detection-using-bimcv-dataset/validation/Covid-19/COVID-19 (147).png')\n",
        "imshow(image)"
      ],
      "execution_count": 21,
      "outputs": [
        {
          "output_type": "error",
          "ename": "ValueError",
          "evalue": "ignored",
          "traceback": [
            "\u001b[0;31m---------------------------------------------------------------------------\u001b[0m",
            "\u001b[0;31mValueError\u001b[0m                                Traceback (most recent call last)",
            "\u001b[0;32m<ipython-input-21-9036ba1446ca>\u001b[0m in \u001b[0;36m<module>\u001b[0;34m()\u001b[0m\n\u001b[1;32m     22\u001b[0m     \u001b[0;32mreturn\u001b[0m \u001b[0max\u001b[0m\u001b[0;34m\u001b[0m\u001b[0;34m\u001b[0m\u001b[0m\n\u001b[1;32m     23\u001b[0m \u001b[0;34m\u001b[0m\u001b[0m\n\u001b[0;32m---> 24\u001b[0;31m \u001b[0mimage\u001b[0m \u001b[0;34m=\u001b[0m \u001b[0mprocess_image\u001b[0m\u001b[0;34m(\u001b[0m\u001b[0;34m'covid-19-detection-using-bimcv-dataset/validation/Covid-19/COVID-19 (147).png'\u001b[0m\u001b[0;34m)\u001b[0m\u001b[0;34m\u001b[0m\u001b[0;34m\u001b[0m\u001b[0m\n\u001b[0m\u001b[1;32m     25\u001b[0m \u001b[0mimshow\u001b[0m\u001b[0;34m(\u001b[0m\u001b[0mimage\u001b[0m\u001b[0;34m)\u001b[0m\u001b[0;34m\u001b[0m\u001b[0;34m\u001b[0m\u001b[0m\n",
            "\u001b[0;32m<ipython-input-20-46a4fb798efe>\u001b[0m in \u001b[0;36mprocess_image\u001b[0;34m(image_path)\u001b[0m\n\u001b[1;32m     28\u001b[0m     \u001b[0mmean\u001b[0m \u001b[0;34m=\u001b[0m \u001b[0mnp\u001b[0m\u001b[0;34m.\u001b[0m\u001b[0marray\u001b[0m\u001b[0;34m(\u001b[0m\u001b[0;34m[\u001b[0m\u001b[0;36m0.485\u001b[0m\u001b[0;34m,\u001b[0m \u001b[0;36m0.456\u001b[0m\u001b[0;34m,\u001b[0m \u001b[0;36m0.406\u001b[0m\u001b[0;34m]\u001b[0m\u001b[0;34m)\u001b[0m\u001b[0;34m\u001b[0m\u001b[0;34m\u001b[0m\u001b[0m\n\u001b[1;32m     29\u001b[0m     \u001b[0mstd\u001b[0m \u001b[0;34m=\u001b[0m \u001b[0mnp\u001b[0m\u001b[0;34m.\u001b[0m\u001b[0marray\u001b[0m\u001b[0;34m(\u001b[0m\u001b[0;34m[\u001b[0m\u001b[0;36m0.229\u001b[0m\u001b[0;34m,\u001b[0m \u001b[0;36m0.224\u001b[0m\u001b[0;34m,\u001b[0m \u001b[0;36m0.225\u001b[0m\u001b[0;34m]\u001b[0m\u001b[0;34m)\u001b[0m\u001b[0;34m\u001b[0m\u001b[0;34m\u001b[0m\u001b[0m\n\u001b[0;32m---> 30\u001b[0;31m     \u001b[0mnp_image\u001b[0m \u001b[0;34m=\u001b[0m \u001b[0;34m(\u001b[0m\u001b[0mnp_image\u001b[0m \u001b[0;34m-\u001b[0m \u001b[0mmean\u001b[0m\u001b[0;34m)\u001b[0m \u001b[0;34m/\u001b[0m \u001b[0mstd\u001b[0m\u001b[0;34m\u001b[0m\u001b[0;34m\u001b[0m\u001b[0m\n\u001b[0m\u001b[1;32m     31\u001b[0m \u001b[0;34m\u001b[0m\u001b[0m\n\u001b[1;32m     32\u001b[0m     \u001b[0;31m# PyTorch expects the color channel to be the first dimension but it's the third dimension in the PIL image and Numpy array\u001b[0m\u001b[0;34m\u001b[0m\u001b[0;34m\u001b[0m\u001b[0;34m\u001b[0m\u001b[0m\n",
            "\u001b[0;31mValueError\u001b[0m: operands could not be broadcast together with shapes (224,224) (3,) "
          ]
        }
      ]
    },
    {
      "cell_type": "code",
      "metadata": {
        "id": "1UvNKG_Chtb2",
        "outputId": "057cf3f3-4dd2-4512-cc45-056588d4c643",
        "colab": {
          "base_uri": "https://localhost:8080/",
          "height": 73
        }
      },
      "source": [
        "# Implement the code to predict the class from an image file\n",
        "\n",
        "def predict(image_path, model, topk=2):\n",
        "    ''' Predict the class (or classes) of an image using a trained deep learning model.\n",
        "    '''\n",
        "    \n",
        "    image = process_image(image_path)\n",
        "    \n",
        "    # Convert image to PyTorch tensor first\n",
        "    image = torch.from_numpy(image).type(torch.FloatTensor)\n",
        "    #print(image.shape)\n",
        "    #print(type(image))\n",
        "    \n",
        "    # Returns a new tensor with a dimension of size one inserted at the specified position.\n",
        "    image = image.unsqueeze(0)\n",
        "    \n",
        "    output = model.forward(image)\n",
        "    \n",
        "    probabilities = torch.exp(output)\n",
        "    \n",
        "    # Probabilities and the indices of those probabilities corresponding to the classes\n",
        "    top_probabilities, top_indices = probabilities.topk(topk)\n",
        "    \n",
        "    # Convert to lists\n",
        "    top_probabilities = top_probabilities.detach().type(torch.FloatTensor).numpy().tolist()[0] \n",
        "    top_indices = top_indices.detach().type(torch.FloatTensor).numpy().tolist()[0] \n",
        "    \n",
        "    # Convert topk_indices to the actual class labels using class_to_idx\n",
        "    # Invert the dictionary so you get a mapping from index to class.\n",
        "    print(model.class_to_idx.items())\n",
        "    idx_to_class = {value: key for key, value in model.class_to_idx.items()}\n",
        "    #print(idx_to_class)\n",
        "    \n",
        "    top_classes = [idx_to_class[index] for index in top_indices]\n",
        "    \n",
        "    return top_probabilities, top_classes\n",
        "    \n",
        "probs, classes = predict('covid-19-detection-using-bimcv-dataset/validation/Covid-19/COVID-19 (202).png', model)   \n",
        "print(probs)\n",
        "print(classes)"
      ],
      "execution_count": null,
      "outputs": [
        {
          "output_type": "stream",
          "text": [
            "dict_items([('Covid-19', 0), ('Normal', 1)])\n",
            "[0.6010609269142151, 0.3989390432834625]\n",
            "['Normal', 'Covid-19']\n"
          ],
          "name": "stdout"
        }
      ]
    },
    {
      "cell_type": "code",
      "metadata": {
        "id": "xFuOR89QuNpS"
      },
      "source": [
        ""
      ],
      "execution_count": null,
      "outputs": []
    }
  ]
}